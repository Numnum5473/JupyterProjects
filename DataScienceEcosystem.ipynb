{
 "cells": [
  {
   "cell_type": "markdown",
   "id": "9dd01f47-1b4a-47c3-86da-cda459524cd3",
   "metadata": {},
   "source": [
    "# Data Science Tools and Ecosystem"
   ]
  },
  {
   "cell_type": "markdown",
   "id": "beeb9da5-2c11-44e1-b230-f815f2558427",
   "metadata": {},
   "source": [
    "In this notebook, Data Science Tools and Ecosystem are summarized."
   ]
  },
  {
   "cell_type": "markdown",
   "id": "142848b1-bae2-4d60-99a6-c0625b9fb5b6",
   "metadata": {},
   "source": [
    "**Objectives:**\n",
    "\n",
    "- Understand how to create Markdown and Code cells in Jupyter Notebook\n",
    "- Perform arithmetic expressions in the Python Programming language\n",
    "- Create ordered and unordered lists in Markdown celss in Jupyter Notebook\n",
    "- Create tables in Jupyter notebook"
   ]
  },
  {
   "cell_type": "markdown",
   "id": "73d80f36-81cb-4906-912c-ca8661955065",
   "metadata": {},
   "source": [
    "Some of the Popular languages that Data Scientists use are:\n",
    "1. Python\n",
    "2. R\n",
    "3. SQL"
   ]
  },
  {
   "cell_type": "markdown",
   "id": "abdf5b67-8c59-4e97-ba2a-72910dab2104",
   "metadata": {},
   "source": [
    "Some of the commonly used libraries used by Data Scientists include:\n",
    "1. Numpy\n",
    "2. Pandas\n",
    "3. Seaborn"
   ]
  },
  {
   "cell_type": "markdown",
   "id": "b51f6bdb-b5b1-41b6-9e99-9aa62e4296c6",
   "metadata": {},
   "source": [
    "|Data Science Tools|\n",
    "|------------------|\n",
    "|Jupyter Notebook  |\n",
    "|R Studio          |\n",
    "|Google Colab      |"
   ]
  },
  {
   "cell_type": "markdown",
   "id": "982df039-252c-415f-a74d-c727ae4ea596",
   "metadata": {},
   "source": [
    "### Below are a few examples of evaluating arithmetic expressions in Python\n"
   ]
  },
  {
   "cell_type": "code",
   "execution_count": 5,
   "id": "a620f8ba-6f46-4aee-a613-e6f4322cfb0a",
   "metadata": {},
   "outputs": [
    {
     "data": {
      "text/plain": [
       "17"
      ]
     },
     "execution_count": 5,
     "metadata": {},
     "output_type": "execute_result"
    }
   ],
   "source": [
    "(3*4)+5"
   ]
  },
  {
   "cell_type": "code",
   "execution_count": 6,
   "id": "66c98f0f-d0ec-44e7-96b2-e20fbd63c02f",
   "metadata": {},
   "outputs": [
    {
     "data": {
      "text/plain": [
       "33.333333333333336"
      ]
     },
     "execution_count": 6,
     "metadata": {},
     "output_type": "execute_result"
    }
   ],
   "source": [
    "#This will convert 200 minutes to hours by dividing by 60\n",
    "200/6"
   ]
  },
  {
   "cell_type": "markdown",
   "id": "36272ff9-833c-441c-8302-d71c0c35d9cb",
   "metadata": {},
   "source": [
    "## Author\n",
    "Francis Mendoza"
   ]
  },
  {
   "cell_type": "code",
   "execution_count": null,
   "id": "7298e449-af98-4448-b8f4-6e42d231dbd3",
   "metadata": {},
   "outputs": [],
   "source": []
  }
 ],
 "metadata": {
  "kernelspec": {
   "display_name": "Python [conda env:base] *",
   "language": "python",
   "name": "conda-base-py"
  },
  "language_info": {
   "codemirror_mode": {
    "name": "ipython",
    "version": 3
   },
   "file_extension": ".py",
   "mimetype": "text/x-python",
   "name": "python",
   "nbconvert_exporter": "python",
   "pygments_lexer": "ipython3",
   "version": "3.13.5"
  }
 },
 "nbformat": 4,
 "nbformat_minor": 5
}
